{
 "cells": [
  {
   "cell_type": "code",
   "execution_count": 20,
   "metadata": {},
   "outputs": [],
   "source": [
    "import numpy as np\n",
    "import pandas as pd\n",
    "from sklearn.linear_model import LinearRegression\n",
    "import matplotlib.pyplot as plt\n",
    "from sklearn.metrics import r2_score"
   ]
  },
  {
   "cell_type": "code",
   "execution_count": 21,
   "metadata": {},
   "outputs": [
    {
     "data": {
      "text/plain": [
       "0.5669314900137288"
      ]
     },
     "execution_count": 21,
     "metadata": {},
     "output_type": "execute_result"
    }
   ],
   "source": [
    "data = pd.read_excel('Dataset_Priklad_Bez_Fo.xlsx')\n",
    "data1=data.fillna(np.mean(data['Размер ежемесячного пособия на ребенка, руб']))\n",
    "y = data1['Ожидаемая продолжительность жизни при рождении, лет']\n",
    "X = data1.drop(['Ожидаемая продолжительность жизни при рождении, лет', 'Unnamed: 0'], 1)\n",
    "model= LinearRegression()\n",
    "model.fit(X, y)\n",
    "r2_score(y, model.predict(X))"
   ]
  },
  {
   "cell_type": "code",
   "execution_count": 35,
   "metadata": {},
   "outputs": [
    {
     "name": "stdout",
     "output_type": "stream",
     "text": [
      "0.05610928811769622\n",
      "0.009835836870460968\n",
      "0.056555056642567436\n",
      "0.17956206807402475\n",
      "0.15666474210426917\n",
      "0.04312889124399999\n",
      "0.0031423636417245993\n"
     ]
    }
   ],
   "source": [
    "X1 = X['Число больничных коек, на конец года '].to_numpy().reshape(-1, 1)\n",
    "X2 = X['Среднедушевые денежные доходы населения, руб'].to_numpy().reshape(-1, 1)\n",
    "X3 = X['Размер ежемесячного пособия на ребенка, руб'].to_numpy().reshape(-1, 1)\n",
    "X4 = X['Оборудование жилищного фонда всеми видами благоустройства, в %'].to_numpy().reshape(-1, 1)\n",
    "X5 = X['Уровень безработицы, в %'].to_numpy().reshape(-1, 1)\n",
    "X6 = X['Использование свежей воды (млн кубометров)'].to_numpy().reshape(-1, 1)\n",
    "X7 = X['Инвестиции в основной капитал на душу населения, руб'].to_numpy().reshape(-1, 1)\n",
    "model1=LinearRegression()\n",
    "model2=LinearRegression()\n",
    "model3=LinearRegression()\n",
    "model4=LinearRegression()\n",
    "model5=LinearRegression()\n",
    "model6=LinearRegression()\n",
    "model7=LinearRegression()\n",
    "model1.fit(X1, y)\n",
    "model2.fit(X2, y)\n",
    "model3.fit(X3, y)\n",
    "model4.fit(X4, y)\n",
    "model5.fit(X5, y)\n",
    "model6.fit(X6, y)\n",
    "model7.fit(X7, y)\n",
    "print(r2_score(y, model1.predict(X1)))\n",
    "print(r2_score(y, model2.predict(X2)))\n",
    "print(r2_score(y, model3.predict(X3)))\n",
    "print(r2_score(y, model4.predict(X4)))\n",
    "print(r2_score(y, model5.predict(X5)))\n",
    "print(r2_score(y, model6.predict(X6)))\n",
    "print(r2_score(y, model7.predict(X7)))"
   ]
  },
  {
   "cell_type": "code",
   "execution_count": null,
   "metadata": {},
   "outputs": [],
   "source": []
  }
 ],
 "metadata": {
  "kernelspec": {
   "display_name": "Python 3",
   "language": "python",
   "name": "python3"
  },
  "language_info": {
   "codemirror_mode": {
    "name": "ipython",
    "version": 3
   },
   "file_extension": ".py",
   "mimetype": "text/x-python",
   "name": "python",
   "nbconvert_exporter": "python",
   "pygments_lexer": "ipython3",
   "version": "3.8.5"
  }
 },
 "nbformat": 4,
 "nbformat_minor": 4
}
