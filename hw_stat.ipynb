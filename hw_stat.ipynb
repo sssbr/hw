{
 "cells": [
  {
   "cell_type": "code",
   "execution_count": 1,
   "metadata": {},
   "outputs": [],
   "source": [
    "import numpy as np\n",
    "import sympy as sp\n",
    "import matplotlib.pyplot as plt\n",
    "from numpy.linalg import inv"
   ]
  },
  {
   "cell_type": "code",
   "execution_count": null,
   "metadata": {},
   "outputs": [],
   "source": []
  },
  {
   "cell_type": "code",
   "execution_count": 22,
   "metadata": {},
   "outputs": [],
   "source": [
    "def find_coeffs(n: float):\n",
    "    x_vector = np.random.uniform(0, 1, n)\n",
    "    y_vector = np.random.uniform(0, 1, n)\n",
    "    y = np.cbrt(y_vector)\n",
    "    x_list = []\n",
    "    x = sp.Symbol('x')\n",
    "    dots_x=[]\n",
    "    dots_y=[]\n",
    "    for i in range(len(y_vector)):\n",
    "        answers=sp.solve(0.5*(4*x**2-3/2*x**3+x)-x_vector[i], x, rational=False)\n",
    "        for j in answers:\n",
    "            if j>=0 and j<1:\n",
    "                x_list.append(j)\n",
    "    for q in range(len(x_list)):\n",
    "        if x_list[q]<y[q]:\n",
    "            dots_x.append(x_list[q])\n",
    "            dots_y.append(y[q])\n",
    "    x = np.array(dots_x)\n",
    "    y = np.array(dots_y)\n",
    "    x = x.astype(float)\n",
    "    y = y.astype(float)\n",
    "    XY = np.vstack([x, y])\n",
    "    a=(np.cov(XY)[1][0])/np.var(x)\n",
    "    b=np.mean(y)-a*np.mean(x)\n",
    "    return x, y, a, b\n",
    "\n",
    "\n"
   ]
  },
  {
   "cell_type": "code",
   "execution_count": 37,
   "metadata": {},
   "outputs": [
    {
     "name": "stdout",
     "output_type": "stream",
     "text": [
      "0.1776578797823573 0.7173789447393658\n",
      "0.2798306357531991 0.6501461721227522\n",
      "0.22985276671012794 0.6722509640937078\n",
      "R^2 при n=20 -  0.03135471208182605\n",
      "Несмещенная дисперсия при том же n: 0.030137429393043123\n",
      "t(a)= 3.7169245005702707 t_b= 80.56543050372844\n",
      "R^2 при n=50 -  0.056870652730151905\n",
      "Несмещенная дисперсия при том же n: 0.03967743444892751\n",
      "t(a)= 13.61628511889855 t_b= 195.9922463672547\n",
      "R^2 при n=100 -  0.053666595253258675\n",
      "Несмещенная дисперсия при том же n: 0.04669413557891617\n",
      "t(a)= 23.285364738228296 t_b= 423.21861153576845\n"
     ]
    }
   ],
   "source": [
    "np.random.seed(13)\n",
    "\n",
    "#n=20\n",
    "n_20=find_coeffs(20)\n",
    "print(n_20[2], n_20[3])\n",
    "#n=50\n",
    "n_50=find_coeffs(50)\n",
    "print(n_50[2], n_50[3])\n",
    "#n=100\n",
    "n_100=find_coeffs(100)\n",
    "print(n_100[2], n_100[3])\n",
    "TSS=0\n",
    "RSS=0\n",
    "var_x_stat=0\n",
    "x_2 =0\n",
    "n_s=[20, 50, 100]\n",
    "count=0\n",
    "n_list=[n_20, n_50, n_100]\n",
    "for j in n_list:\n",
    "    for i in range(len(j[1])):\n",
    "        x_2+=(j[0][i])**2\n",
    "        var_x_stat+=(j[0][i]-np.mean(j[0]))**2\n",
    "        TSS+=(j[1][i]-np.mean(j[1]))**2\n",
    "        RSS+=(j[1][i]-j[2]*j[0][i]-j[3])**2\n",
    "    disp_correct=RSS/(n_s[count]-2)\n",
    "    S_a=disp_correct/var_x_stat\n",
    "    S_b=S_a*(np.mean(j[0]**2))\n",
    "    print('R^2 при n='+str(n_s[count])+' - ', 1-(RSS/TSS))\n",
    "    print('Несмещенная дисперсия при том же n:',disp_correct)\n",
    "    print('t(a)=', j[2]/S_a, 't_b=', j[3]/S_b)\n",
    "    count+=1"
   ]
  },
  {
   "cell_type": "code",
   "execution_count": null,
   "metadata": {},
   "outputs": [],
   "source": []
  },
  {
   "cell_type": "code",
   "execution_count": null,
   "metadata": {},
   "outputs": [],
   "source": []
  }
 ],
 "metadata": {
  "kernelspec": {
   "display_name": "Python 3",
   "language": "python",
   "name": "python3"
  },
  "language_info": {
   "codemirror_mode": {
    "name": "ipython",
    "version": 3
   },
   "file_extension": ".py",
   "mimetype": "text/x-python",
   "name": "python",
   "nbconvert_exporter": "python",
   "pygments_lexer": "ipython3",
   "version": "3.8.5"
  }
 },
 "nbformat": 4,
 "nbformat_minor": 4
}
